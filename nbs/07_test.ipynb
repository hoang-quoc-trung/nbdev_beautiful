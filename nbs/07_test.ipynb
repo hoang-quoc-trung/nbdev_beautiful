{
 "cells": [
  {
   "cell_type": "code",
   "execution_count": null,
   "id": "c5de87da",
   "metadata": {},
   "outputs": [],
   "source": [
    "#| default_exp test\n"
   ]
  },
  {
   "cell_type": "markdown",
   "id": "4b6fb998",
   "metadata": {},
   "source": [
    "# Test\n",
    "\n",
    "> Test vài chức năng trong directive"
   ]
  },
  {
   "cell_type": "code",
   "execution_count": null,
   "id": "1e79a1f3",
   "metadata": {},
   "outputs": [],
   "source": [
    "#| hide\n",
    "from nbdev.showdoc import *\n",
    " "
   ]
  },
  {
   "cell_type": "markdown",
   "id": "f74c0f85",
   "metadata": {},
   "source": [
    "## Cell Visibility"
   ]
  },
  {
   "cell_type": "markdown",
   "id": "d78a4343",
   "metadata": {},
   "source": [
    "### 1:\n",
    "`#| echo: true `\\\n",
    "`print(\"Hello\")`"
   ]
  },
  {
   "cell_type": "code",
   "execution_count": null,
   "id": "6ac6d0bc",
   "metadata": {},
   "outputs": [
    {
     "name": "stdout",
     "output_type": "stream",
     "text": [
      "Hello\n"
     ]
    }
   ],
   "source": [
    "#| echo: true\n",
    "print(\"Hello\")"
   ]
  },
  {
   "cell_type": "markdown",
   "id": "20fb663f",
   "metadata": {},
   "source": [
    "### 2:\n",
    "`#| echo: false `\\\n",
    "`print(\"Hello\")`"
   ]
  },
  {
   "cell_type": "code",
   "execution_count": null,
   "id": "87153df2",
   "metadata": {},
   "outputs": [
    {
     "name": "stdout",
     "output_type": "stream",
     "text": [
      "Hello\n"
     ]
    }
   ],
   "source": [
    "#| echo: false\n",
    "print(\"Hello\")"
   ]
  },
  {
   "cell_type": "markdown",
   "id": "29ccdb7e",
   "metadata": {},
   "source": [
    "### 3:\n",
    "`#| output: asis `\\\n",
    "`print(\"Hello\")`"
   ]
  },
  {
   "cell_type": "code",
   "execution_count": null,
   "id": "3734b257",
   "metadata": {},
   "outputs": [
    {
     "name": "stdout",
     "output_type": "stream",
     "text": [
      "Hello\n"
     ]
    }
   ],
   "source": [
    "#| output: asis\n",
    "print(\"Hello\")"
   ]
  },
  {
   "cell_type": "markdown",
   "id": "7dc7082b",
   "metadata": {},
   "source": [
    "### 4:\n",
    "`#| output: true `\\\n",
    "`print(\"Hello\")`"
   ]
  },
  {
   "cell_type": "code",
   "execution_count": null,
   "id": "9744fc7a",
   "metadata": {},
   "outputs": [
    {
     "name": "stdout",
     "output_type": "stream",
     "text": [
      "Hello\n"
     ]
    }
   ],
   "source": [
    "#| output: true\n",
    "print(\"Hello\")"
   ]
  },
  {
   "cell_type": "markdown",
   "id": "8782a530",
   "metadata": {},
   "source": [
    "### 5:\n",
    "`#| output: false `\\\n",
    "`print(\"Hello\")`"
   ]
  },
  {
   "cell_type": "code",
   "execution_count": null,
   "id": "3818cc94",
   "metadata": {},
   "outputs": [
    {
     "name": "stdout",
     "output_type": "stream",
     "text": [
      "Hello\n"
     ]
    }
   ],
   "source": [
    "#| output: false\n",
    "print(\"Hello\")"
   ]
  },
  {
   "cell_type": "markdown",
   "id": "1aa071f9",
   "metadata": {},
   "source": [
    "### 6:\n",
    "`print(\"Hide line\") #| hide_line `\\\n",
    "`print(\"Hello\")`"
   ]
  },
  {
   "cell_type": "code",
   "execution_count": null,
   "id": "146aa5ac",
   "metadata": {},
   "outputs": [
    {
     "name": "stdout",
     "output_type": "stream",
     "text": [
      "Hide line\n",
      "Hello\n"
     ]
    }
   ],
   "source": [
    "print(\"Hide line\") #| hide_line\n",
    "print(\"Hello\")"
   ]
  },
  {
   "cell_type": "markdown",
   "id": "07ba21d5",
   "metadata": {},
   "source": [
    "### 7:\n",
    "`#|filter_stream FutureWarning MultiIndex`\\\n",
    "`print('\\n'.join(['A line', 'Foobar baz FutureWarning blah', 'zig zagMultiIndex zoom', 'Another line.']))`"
   ]
  },
  {
   "cell_type": "code",
   "execution_count": null,
   "id": "4b762063",
   "metadata": {},
   "outputs": [
    {
     "name": "stdout",
     "output_type": "stream",
     "text": [
      "A line\n",
      "Foobar baz FutureWarning blah\n",
      "zig zagMultiIndex zoom\n",
      "Another line.\n"
     ]
    }
   ],
   "source": [
    "#|filter_stream FutureWarning MultiIndex\n",
    "print('\\n'.join(['A line', 'Foobar baz FutureWarning blah', 'zig zagMultiIndex zoom', 'Another line.']))"
   ]
  },
  {
   "cell_type": "markdown",
   "id": "3027b736",
   "metadata": {},
   "source": [
    "### 8:\n",
    "`#| code-fold: true` \\\n",
    "`print('Hello')` \\\n",
    "`print('nbdev')`"
   ]
  },
  {
   "cell_type": "code",
   "execution_count": null,
   "id": "19820fd4",
   "metadata": {},
   "outputs": [
    {
     "name": "stdout",
     "output_type": "stream",
     "text": [
      "Hello\n",
      "nbdev\n"
     ]
    }
   ],
   "source": [
    "#| code-fold: true\n",
    "print('Hello')\n",
    "print('nbdev')"
   ]
  },
  {
   "cell_type": "markdown",
   "id": "5a971771",
   "metadata": {},
   "source": [
    "### 9:\n",
    "`#| code-fold: show` \\\n",
    "`print('Hello')` \\\n",
    "`print('nbdev')`"
   ]
  },
  {
   "cell_type": "code",
   "execution_count": null,
   "id": "538438a0",
   "metadata": {},
   "outputs": [],
   "source": [
    "#| code-fold: show\n",
    "print('Hello')\n",
    "print('nbdev')"
   ]
  },
  {
   "cell_type": "markdown",
   "id": "754b67d0",
   "metadata": {},
   "source": [
    "### 10:\n",
    "`#| exporti` \\\n",
    "`def test():` \\\n",
    "&nbsp;&nbsp;&nbsp;&nbsp; `print(\"Test nbdev 2\")`"
   ]
  },
  {
   "cell_type": "code",
   "execution_count": null,
   "id": "70b5755b",
   "metadata": {},
   "outputs": [],
   "source": [
    "#| exporti\n",
    "def test():\n",
    "    print(\"Test nbdev 2\")"
   ]
  },
  {
   "cell_type": "markdown",
   "id": "34d0b3f1",
   "metadata": {},
   "source": [
    "### 11:\n",
    "`#| eval: false` \\\n",
    "`raise Exception(\"I'm not raised because I'm not run\")`"
   ]
  },
  {
   "cell_type": "code",
   "execution_count": null,
   "id": "db767dd7",
   "metadata": {},
   "outputs": [
    {
     "ename": "Exception",
     "evalue": "I'm not raised because I'm not run",
     "output_type": "error",
     "traceback": [
      "\u001b[0;31m---------------------------------------------------------------------------\u001b[0m",
      "\u001b[0;31mException\u001b[0m                                 Traceback (most recent call last)",
      "Cell \u001b[0;32mIn[123], line 2\u001b[0m\n\u001b[1;32m      1\u001b[0m \u001b[38;5;66;03m#| eval: true\u001b[39;00m\n\u001b[0;32m----> 2\u001b[0m \u001b[38;5;28;01mraise\u001b[39;00m \u001b[38;5;167;01mException\u001b[39;00m(\u001b[38;5;124m\"\u001b[39m\u001b[38;5;124mI\u001b[39m\u001b[38;5;124m'\u001b[39m\u001b[38;5;124mm not raised because I\u001b[39m\u001b[38;5;124m'\u001b[39m\u001b[38;5;124mm not run\u001b[39m\u001b[38;5;124m\"\u001b[39m)\n",
      "\u001b[0;31mException\u001b[0m: I'm not raised because I'm not run"
     ]
    }
   ],
   "source": [
    "#| eval: false\n",
    "raise Exception(\"I'm not raised because I'm not run\")"
   ]
  },
  {
   "cell_type": "code",
   "execution_count": null,
   "id": "543419d8-4e79-458a-ae6c-1bcbf7666527",
   "metadata": {},
   "outputs": [],
   "source": []
  },
  {
   "cell_type": "code",
   "execution_count": null,
   "id": "d69cf07b-848e-4c2a-b05a-492e291a3480",
   "metadata": {},
   "outputs": [],
   "source": []
  },
  {
   "cell_type": "code",
   "execution_count": null,
   "id": "80ee7e8d-0c2c-4bf1-af91-1d22800d34ea",
   "metadata": {},
   "outputs": [],
   "source": []
  },
  {
   "cell_type": "code",
   "execution_count": null,
   "id": "bd4fbc34-edba-446f-9a73-bf0acba3c629",
   "metadata": {},
   "outputs": [],
   "source": []
  },
  {
   "cell_type": "code",
   "execution_count": null,
   "id": "c5a88236-7ec2-4792-afcb-35343df0bd2b",
   "metadata": {},
   "outputs": [],
   "source": []
  },
  {
   "cell_type": "code",
   "execution_count": null,
   "id": "99ac7267-8799-4c27-b7fd-399a04a717ce",
   "metadata": {},
   "outputs": [],
   "source": []
  },
  {
   "cell_type": "code",
   "execution_count": null,
   "id": "a984ac41",
   "metadata": {},
   "outputs": [],
   "source": [
    "#| hide\n",
    "import nbdev; nbdev.nbdev_export()"
   ]
  }
 ],
 "metadata": {
  "kernelspec": {
   "display_name": "nbdev",
   "language": "python",
   "name": "nbdev"
  }
 },
 "nbformat": 4,
 "nbformat_minor": 5
}
