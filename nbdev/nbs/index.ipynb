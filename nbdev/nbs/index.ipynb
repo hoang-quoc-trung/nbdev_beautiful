{
 "cells": [
  {
   "cell_type": "markdown",
   "metadata": {},
   "source": [
    "# nbdev Tutorial\n",
    "\n",
    "> Một vài hướng dẫn cơ bản cách sử dụng `nbdev` cho AI Engineer\n"
   ]
  },
  {
   "cell_type": "markdown",
   "metadata": {},
   "source": [
    "## Overview"
   ]
  },
  {
   "cell_type": "markdown",
   "metadata": {},
   "source": [
    "- <a class=\"link-hover\" href=\"03_how_to_use_nbdev.ipynb\">Basic Tutorial On How To Use nbdev</a>"
   ]
  },
  {
   "cell_type": "markdown",
   "metadata": {},
   "source": [
    "- <a class=\"link-hover\" href=\"04_directives.ipynb\">Directives</a>"
   ]
  },
  {
   "cell_type": "markdown",
   "metadata": {},
   "source": [
    "- <a class=\"link-hover\" href=\"06_beautiful_page.ipynb\">How To Create A Beautiful Page</a>"
   ]
  },
  {
   "cell_type": "markdown",
   "metadata": {},
   "source": [
    "- <a class=\"link-hover\" href=\"00_card_overview.ipynb\">Card Example</a>\n",
    "    - <a class=\"link-hover\" href=\"01_card.ipynb\">Card</a>\n",
    "    - <a class=\"link-hover\" href=\"02_desk.ipynb\">Desk</a>"
   ]
  },
  {
   "cell_type": "markdown",
   "metadata": {},
   "source": [
    " \\"
   ]
  },
  {
   "cell_type": "markdown",
   "metadata": {},
   "source": [
    " "
   ]
  },
  {
   "cell_type": "markdown",
   "metadata": {},
   "source": [
    "\n",
    "\n",
    "**Để biết thêm chi tiết về cách sử dụng hãy truy cập** <a class=\"link\" href=\"https://nbdev.fast.ai/\">nbdev official tutorial</a>\n",
    "\n",
    "<iframe width=\"560\" height=\"315\" src=\"https://www.youtube.com/embed/l7zS8Ld4_iA\" title=\"YouTube video player\" frameborder=\"0\" allow=\"accelerometer; autoplay; clipboard-write; encrypted-media; gyroscope; picture-in-picture; web-share\" allowfullscreen></iframe>"
   ]
  },
  {
   "cell_type": "markdown",
   "metadata": {},
   "source": [
    "## Why nbdev?"
   ]
  },
  {
   "cell_type": "markdown",
   "metadata": {},
   "source": [
    "Là một AI engineer, bạn chủ yếu làm việc với các file `.ipynb` . Tuy nhiên, trong quá trình triển khai production, các file `.py` là bắt buộc để các model AI có thể hoạt động với Web backend. Tuy nhiên, hầu hết những người mới bắt đầu đều thiếu software skill và khó khăn trong việc code các file Python. Đó là lý do tại sao <a class=\"link\" href=\"https://nbdev.fast.ai\">nbdev</a> ra đời và đến giải cứu bạn.\n",
    "\n",
    "Nbdev là một battery-ready notebook development platform, được xây dựng trên <a class=\"link\" href=\"https://quarto.org\">Quarto</a> platform. Nó cho phép: \\\n",
    "- Đồng bộ giữa file `.ipynb` và file `.py` \\\n",
    "- Tạo nhanh document sử dụng <a class=\"link\" href=\"https://www.markdownguide.org\">markdown</a> (*) trong khi develop \\\n",
    "- Publish package của bạn trên PyPI hoặc Conda \\\n",
    "- <a class=\"link\" href=\"https://www.youtube.com/watch?v=8aV5AxJrHDg&list=PLZMWkkQEwOPmGolqJPsAm_4fcBDDc2to_\">Continuous Integration</a> với git và chạy trên git page \\\n",
    "- Test, code, document ở một nơi\n",
    "\n",
    "(*) Markdown thường được sử dụng trong github repo với tên `readme.md`, để tìm hiểu thêm về Markdown hãy truy cập <a class=\"link\" href=\"https://www.markdownguide.org/\">Markdown Guide</a>.\n",
    "\n",
    "![](https://github.blog/wp-content/uploads/2020/11/nbdev_logo11.png?fit=1200%2C630)"
   ]
  },
  {
   "cell_type": "markdown",
   "metadata": {},
   "source": []
  },
  {
   "cell_type": "markdown",
   "metadata": {},
   "source": []
  },
  {
   "cell_type": "code",
   "execution_count": null,
   "metadata": {},
   "outputs": [],
   "source": []
  },
  {
   "cell_type": "code",
   "execution_count": null,
   "metadata": {},
   "outputs": [],
   "source": []
  },
  {
   "cell_type": "code",
   "execution_count": null,
   "metadata": {},
   "outputs": [],
   "source": []
  },
  {
   "cell_type": "code",
   "execution_count": null,
   "metadata": {},
   "outputs": [],
   "source": []
  }
 ],
 "metadata": {
  "kernelspec": {
   "display_name": "python3",
   "language": "python",
   "name": "python3"
  }
 },
 "nbformat": 4,
 "nbformat_minor": 4
}
